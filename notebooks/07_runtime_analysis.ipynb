{
 "cells": [
  {
   "cell_type": "code",
   "execution_count": 12,
   "metadata": {},
   "outputs": [],
   "source": [
    "import pandas as pd\n",
    "import numpy as np\n",
    "import matplotlib.pyplot as plt\n",
    "import re"
   ]
  },
  {
   "cell_type": "code",
   "execution_count": 56,
   "metadata": {},
   "outputs": [],
   "source": [
    "def extract_runtimes(file, run_header_pattern, epoch_pattern, total_pattern):\n",
    "    # This will hold each run's data\n",
    "    runs = []\n",
    "    current_run = None\n",
    "\n",
    "    # Open and read the file (change 'logfile.txt' to your filename)\n",
    "    with open(file, \"r\") as f:\n",
    "        for line in f:\n",
    "            line = line.strip()\n",
    "\n",
    "            # Check if the line is a run header\n",
    "            run_header_match = run_header_pattern.match(line)\n",
    "            if run_header_match:\n",
    "                # Save the previous run if one exists\n",
    "                if current_run:\n",
    "                    runs.append(current_run)\n",
    "                run_num, seed = run_header_match.groups()\n",
    "                current_run = {\n",
    "                    \"run\": int(run_num),\n",
    "                    \"seed\": int(seed),\n",
    "                    \"epochs\": [],  # List to hold (epoch number, runtime)\n",
    "                    \"total_runtime\": None,  # This will be updated later\n",
    "                }\n",
    "                continue\n",
    "\n",
    "            # Check if the line is an epoch runtime entry\n",
    "            epoch_match = epoch_pattern.match(line)\n",
    "            if epoch_match and current_run is not None:\n",
    "                if len(epoch_match.groups()) == 2:\n",
    "                    epoch_num, runtime = epoch_match.groups()\n",
    "                    current_run[\"epochs\"].append((int(epoch_num), float(runtime)))\n",
    "                    continue\n",
    "                elif len(epoch_match.groups()) == 3:\n",
    "                    _, epoch_num, runtime = epoch_match.groups()\n",
    "                    current_run[\"epochs\"].append((int(epoch_num), float(runtime)))\n",
    "                    continue\n",
    "\n",
    "            # Check if the line is a total runtime entry\n",
    "            total_match = total_pattern.match(line)\n",
    "            if total_match and current_run is not None:\n",
    "                _, total_runtime = total_match.groups()\n",
    "                current_run[\"total_runtime\"] = float(total_runtime)\n",
    "                continue\n",
    "\n",
    "        # Append the last run after loop ends\n",
    "        if current_run:\n",
    "            runs.append(current_run)\n",
    "\n",
    "    # Build a table (pandas DataFrame) that lists each run and its epochs.\n",
    "    # You can choose to have a row for every epoch, including total runtime replicated for that run.\n",
    "    rows = []\n",
    "    for run in runs:\n",
    "        for epoch_num, epoch_time in run[\"epochs\"]:\n",
    "            rows.append(\n",
    "                {\n",
    "                    \"Run\": run[\"run\"],\n",
    "                    \"Seed\": run[\"seed\"],\n",
    "                    \"Epoch\": epoch_num,\n",
    "                    \"Epoch Runtime (s)\": epoch_time,\n",
    "                    \"Total Runtime (s)\": run[\"total_runtime\"],\n",
    "                }\n",
    "            )\n",
    "\n",
    "    df = pd.DataFrame(rows)\n",
    "    return df"
   ]
  },
  {
   "cell_type": "code",
   "execution_count": 57,
   "metadata": {},
   "outputs": [
    {
     "name": "stdout",
     "output_type": "stream",
     "text": [
      "\n",
      "Mean and Standard Deviation of Epoch Runtimes per Run:\n",
      "  index  Epoch Runtime (s)\n",
      "0  mean          18.632663\n",
      "1   std           1.167564\n",
      "\n",
      "Mean and Standard Deviation of Total Runtimes:\n",
      "  index  Total Runtime (s)\n",
      "0  mean        1582.117870\n",
      "1   std         116.368243\n"
     ]
    }
   ],
   "source": [
    "# MODIG\n",
    "# Regular expression patterns.\n",
    "# This pattern looks for a run header, e.g.: \"####### Run 0 for seed 0\"\n",
    "run_header_pattern = re.compile(r\"^####### Run (\\d+) for seed (\\d+)\")\n",
    "# This pattern matches a per epoch runtime, e.g.: \"Epoch 1 runtime: 18.58 seconds\"\n",
    "epoch_pattern = re.compile(r\"^Epoch (\\d+) runtime: ([\\d.]+) seconds\")\n",
    "# This pattern matches the total runtime, e.g.: \"Run 0 total runtime: 1458.28 seconds\"\n",
    "total_pattern = re.compile(r\"^Run (\\d+) total runtime: ([\\d.]+) seconds\")\n",
    "\n",
    "modig_file = \"../results/modig_runtime.txt\"\n",
    "\n",
    "modig_df = extract_runtimes(\n",
    "    modig_file, run_header_pattern, epoch_pattern, total_pattern\n",
    ")\n",
    "\n",
    "# calculate the mean and standard deviation for epoch runtimes per run.\n",
    "group_stats = modig_df[\"Epoch Runtime (s)\"].agg([\"mean\", \"std\"]).reset_index()\n",
    "total_runtime_stats = modig_df[\"Total Runtime (s)\"].agg([\"mean\", \"std\"]).reset_index()\n",
    "print(\"\\nMean and Standard Deviation of Epoch Runtimes per Run:\")\n",
    "print(group_stats)\n",
    "print(\"\\nMean and Standard Deviation of Total Runtimes:\")\n",
    "print(total_runtime_stats)"
   ]
  },
  {
   "cell_type": "code",
   "execution_count": 62,
   "metadata": {},
   "outputs": [
    {
     "name": "stdout",
     "output_type": "stream",
     "text": [
      "\n",
      "Mean and Standard Deviation of Epoch Runtimes per Run:\n",
      "  index  Epoch Runtime (s)\n",
      "0  mean           5.688090\n",
      "1   std           0.815988\n",
      "\n",
      "Mean and Standard Deviation of Total Runtimes:\n",
      "  index  Total Runtime (s)\n",
      "0  mean         566.079799\n",
      "1   std          15.919849\n"
     ]
    }
   ],
   "source": [
    "# MDMNI\n",
    "# Regular expression patterns.\n",
    "# This pattern looks for a run header, e.g.: \"####### Run 0 for seed 0\"\n",
    "run_header_pattern = re.compile(r\"^####### Run (\\d+) for seed (\\d+)\")\n",
    "# This pattern matches a per epoch runtime, e.g.: \"Epoch 1 runtime: 18.58 seconds\"\n",
    "epoch_pattern = re.compile(r\"^Run (\\d+) - Epoch (\\d+) runtime: ([\\d.]+) seconds\")\n",
    "# This pattern matches the total runtime, e.g.: \"Run 0 total runtime: 1458.28 seconds\"\n",
    "total_pattern = re.compile(r\"^Run (\\d+) total runtime: ([\\d.]+) seconds\")\n",
    "\n",
    "mdmni_file = \"../results/mdmni_runtime.txt\"\n",
    "\n",
    "mdmni_df = extract_runtimes(\n",
    "    mdmni_file, run_header_pattern, epoch_pattern, total_pattern\n",
    ")\n",
    "\n",
    "# calculate the mean and standard deviation for epoch runtimes per run.\n",
    "group_stats = mdmni_df[\"Epoch Runtime (s)\"].agg([\"mean\", \"std\"]).reset_index()\n",
    "total_runtime_stats = mdmni_df[\"Total Runtime (s)\"].agg([\"mean\", \"std\"]).reset_index()\n",
    "print(\"\\nMean and Standard Deviation of Epoch Runtimes per Run:\")\n",
    "print(group_stats)\n",
    "print(\"\\nMean and Standard Deviation of Total Runtimes:\")\n",
    "print(total_runtime_stats)"
   ]
  },
  {
   "cell_type": "code",
   "execution_count": 65,
   "metadata": {},
   "outputs": [
    {
     "name": "stdout",
     "output_type": "stream",
     "text": [
      "\n",
      "Mean and Standard Deviation of Epoch Runtimes per Run:\n",
      "  index  Epoch Runtime (s)\n",
      "0  mean           0.234050\n",
      "1   std           0.071193\n",
      "\n",
      "Mean and Standard Deviation of Total Runtimes:\n",
      "  index  Total Runtime (s)\n",
      "0  mean          72.980000\n",
      "1   std           2.947378\n"
     ]
    }
   ],
   "source": [
    "# MDMNI\n",
    "# Regular expression patterns.\n",
    "# This pattern looks for a run header, e.g.: \"####### Run 0 for seed 0\"\n",
    "run_header_pattern = re.compile(r\"^####### Run (\\d+) for seed (\\d+)\")\n",
    "# This pattern matches a per epoch runtime, e.g.: \"Epoch 1 runtime: 18.58 seconds\"\n",
    "epoch_pattern = re.compile(\n",
    "    r\"^#\\s*Epoch\\s+(\\d+):.*?Epoch\\s+\\1\\s+runtime:\\s+([\\d.]+)\\s+seconds\"\n",
    ")\n",
    "# This pattern matches the total runtime, e.g.: \"Run 0 total runtime: 1458.28 seconds\"\n",
    "total_pattern = re.compile(r\"^Run (\\d+) total runtime: ([\\d.]+) seconds\")\n",
    "\n",
    "morgan_file = \"../results/morgan_runtime.txt\"\n",
    "\n",
    "morgan_df = extract_runtimes(\n",
    "    morgan_file, run_header_pattern, epoch_pattern, total_pattern\n",
    ")\n",
    "\n",
    "# calculate the mean and standard deviation for epoch runtimes per run.\n",
    "group_stats = morgan_df[\"Epoch Runtime (s)\"].agg([\"mean\", \"std\"]).reset_index()\n",
    "total_runtime_stats = morgan_df[\"Total Runtime (s)\"].agg([\"mean\", \"std\"]).reset_index()\n",
    "print(\"\\nMean and Standard Deviation of Epoch Runtimes per Run:\")\n",
    "print(group_stats)\n",
    "print(\"\\nMean and Standard Deviation of Total Runtimes:\")\n",
    "print(total_runtime_stats)"
   ]
  },
  {
   "cell_type": "code",
   "execution_count": 70,
   "metadata": {},
   "outputs": [
    {
     "data": {
      "image/png": "[encoded data removed]",
      "text/plain": [
       "<Figure size 1200x600 with 1 Axes>"
      ]
     },
     "metadata": {},
     "output_type": "display_data"
    }
   ],
   "source": [
    "import matplotlib.pyplot as plt\n",
    "import numpy as np\n",
    "\n",
    "# Average CPU times per epoch for the three methods\n",
    "models = [\"MODIG\", \"MDMNI-DGD\", \"MORGaN\"]\n",
    "cpu_times = [18.599, 5.688, 0.234]\n",
    "\n",
    "# Compute speedup relative to MODIG\n",
    "speedups = [1, 18.599 / 5.688, 18.599 / 0.234]\n",
    "\n",
    "plt.figure(figsize=(12, 6))\n",
    "bars = plt.bar(models, speedups, color=[\"gray\", \"gray\", \"green\"])\n",
    "plt.ylabel(\"Speedup factor (relative to MODIG)\")\n",
    "plt.title(\"Speedup in CPU Time per Epoch\")\n",
    "plt.ylim(0, max(speedups) * 1.1)\n",
    "\n",
    "# Adding text label for each bar\n",
    "for bar, speed in zip(bars, speedups):\n",
    "    plt.text(\n",
    "        bar.get_x() + bar.get_width() / 2,\n",
    "        bar.get_height() * 1.02,\n",
    "        f\"{speed:.1f}×\",\n",
    "        ha=\"center\",\n",
    "        va=\"bottom\",\n",
    "    )\n",
    "\n",
    "plt.savefig(\"../figures/speedup_per_epoch.png\", dpi=300, bbox_inches=\"tight\")\n",
    "plt.show()"
   ]
  },
  {
   "cell_type": "code",
   "execution_count": null,
   "metadata": {},
   "outputs": [],
   "source": []
  }
 ],
 "metadata": {
  "kernelspec": {
   "display_name": ".dg_env",
   "language": "python",
   "name": "python3"
  },
  "language_info": {
   "codemirror_mode": {
    "name": "ipython",
    "version": 3
   },
   "file_extension": ".py",
   "mimetype": "text/x-python",
   "name": "python",
   "nbconvert_exporter": "python",
   "pygments_lexer": "ipython3",
   "version": "3.12.8"
  }
 },
 "nbformat": 4,
 "nbformat_minor": 2
}
