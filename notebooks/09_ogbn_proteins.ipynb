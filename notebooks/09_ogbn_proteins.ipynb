{
 "cells": [
  {
   "cell_type": "code",
   "execution_count": 4,
   "id": "7da6e107",
   "metadata": {},
   "outputs": [],
   "source": [
    "from ogb.nodeproppred import NodePropPredDataset\n",
    "import numpy as np\n",
    "import torch\n",
    "from torch_geometric.data import Data"
   ]
  },
  {
   "cell_type": "code",
   "execution_count": 17,
   "id": "b2d3fec8",
   "metadata": {},
   "outputs": [
    {
     "name": "stdout",
     "output_type": "stream",
     "text": [
      "Downloading http://snap.stanford.edu/ogb/data/nodeproppred/proteins.zip\n"
     ]
    },
    {
     "name": "stderr",
     "output_type": "stream",
     "text": [
      "Downloaded 0.21 GB: 100%|██████████| 216/216 [01:00<00:00,  3.56it/s]\n"
     ]
    },
    {
     "name": "stdout",
     "output_type": "stream",
     "text": [
      "Extracting ../data/proteins.zip\n",
      "Loading necessary files...\n",
      "This might take a while.\n",
      "Processing graphs...\n"
     ]
    },
    {
     "name": "stderr",
     "output_type": "stream",
     "text": [
      "100%|██████████| 1/1 [00:01<00:00,  1.65s/it]\n"
     ]
    },
    {
     "name": "stdout",
     "output_type": "stream",
     "text": [
      "Saving...\n",
      "None\n"
     ]
    }
   ],
   "source": [
    "dataset = NodePropPredDataset(name=\"ogbn-proteins\", root=\"../data\")\n",
    "graph, labels = dataset[0]\n",
    "print(graph[\"node_feat\"])  # → None"
   ]
  },
  {
   "cell_type": "code",
   "execution_count": null,
   "id": "fe648ef6",
   "metadata": {},
   "outputs": [],
   "source": [
    "# Save as a PyTorch Geometric Data object with synthetic features\n",
    "edge_index = torch.from_numpy(graph['edge_index']).long()           # [2, E]\n",
    "edge_attr  = torch.from_numpy(graph['edge_feat']).float()          # [E, 8]\n",
    "y          = torch.from_numpy(labels).float().squeeze()            # [N, 112]\n",
    "num_nodes  = graph['num_nodes']\n",
    "\n",
    "D = 64\n",
    "x = torch.rand((num_nodes, D), dtype=torch.float)\n",
    "\n",
    "splits = dataset.get_idx_split()\n",
    "train_mask = torch.zeros(num_nodes, dtype=torch.bool)\n",
    "train_mask[splits['train']] = True\n",
    "val_mask   = torch.zeros(num_nodes, dtype=torch.bool)\n",
    "val_mask[splits['valid']] = True\n",
    "test_mask  = torch.zeros(num_nodes, dtype=torch.bool)\n",
    "test_mask[splits['test']] = True\n",
    "\n",
    "data = Data(\n",
    "    x=x,\n",
    "    edge_index=edge_index,\n",
    "    edge_attr=edge_attr,\n",
    "    y=y,\n",
    "    train_mask=train_mask,\n",
    "    val_mask=val_mask,\n",
    "    test_mask=test_mask,\n",
    ")\n",
    "\n",
    "data.edge_type = data.edge_attr.argmax(dim=1).long()\n",
    "\n",
    "# torch.save(data, '../data/ogbn_proteins/ogbn_proteins_synthetic.pt')\n",
    "print(\"Saved PyG Data object with synthetic features to ogbn_proteins_synthetic.pt\")"
   ]
  },
  {
   "cell_type": "code",
   "execution_count": 6,
   "id": "6bf2f7e6",
   "metadata": {},
   "outputs": [],
   "source": [
    "graph = torch.load('../data/ogbn_proteins/ogbn_proteins_synthetic.pt', weights_only=False)"
   ]
  },
  {
   "cell_type": "code",
   "execution_count": 23,
   "id": "7aa8f11c",
   "metadata": {},
   "outputs": [
    {
     "name": "stdout",
     "output_type": "stream",
     "text": [
      "Graph properties:\n",
      " 112 \n",
      " torch.Size([79122504]) \n",
      " 8\n"
     ]
    }
   ],
   "source": [
    "print(\"Graph properties:\\n\",\n",
    "graph.y.size(1), '\\n',\n",
    "graph.edge_type.shape, '\\n',\n",
    "graph.edge_attr.shape[1]) "
   ]
  },
  {
   "cell_type": "code",
   "execution_count": null,
   "id": "9caa291b",
   "metadata": {},
   "outputs": [],
   "source": []
  }
 ],
 "metadata": {
  "kernelspec": {
   "display_name": ".dg_env (3.12.8)",
   "language": "python",
   "name": "python3"
  },
  "language_info": {
   "codemirror_mode": {
    "name": "ipython",
    "version": 3
   },
   "file_extension": ".py",
   "mimetype": "text/x-python",
   "name": "python",
   "nbconvert_exporter": "python",
   "pygments_lexer": "ipython3",
   "version": "3.12.8"
  }
 },
 "nbformat": 4,
 "nbformat_minor": 5
}
