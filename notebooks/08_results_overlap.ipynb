{
 "cells": [
  {
   "cell_type": "code",
   "execution_count": 1,
   "id": "3d082381",
   "metadata": {},
   "outputs": [],
   "source": [
    "import pandas as pd\n",
    "import matplotlib.pyplot as plt\n",
    "from matplotlib_venn import venn3"
   ]
  },
  {
   "cell_type": "code",
   "execution_count": 2,
   "id": "06686d3e",
   "metadata": {},
   "outputs": [],
   "source": [
    "morgan = pd.read_csv(\"../other/emb_extraction_model_pred.csv\")\n",
    "morgan = morgan[morgan[\"Score\"] > 0.5]\n",
    "false_positives = morgan[(morgan[\"Label\"] == 0) & (morgan[\"Pred\"] == 1)]\n",
    "dgidb = pd.read_csv(\"../data/gene_lists/DGIdb.csv\", header = None)\n",
    "dgidb = dgidb.iloc[3:]\n",
    "dfcage = pd.read_csv(\"../data/gene_lists/DF_CAGE.csv\")\n",
    "finan = pd.read_csv(\"../data/components/labels/NIHMS80906-supplement-Table_S1.csv\")"
   ]
  },
  {
   "cell_type": "code",
   "execution_count": 3,
   "id": "9a51110c",
   "metadata": {},
   "outputs": [],
   "source": [
    "morgan_genes = set(false_positives[\"Gene\"])\n",
    "dgidb_genes = set(dgidb[0])\n",
    "dfcage_genes = set(dfcage[\"Gene\"])\n",
    "finan_genes = set(finan[\"hgnc_names\"])"
   ]
  },
  {
   "cell_type": "code",
   "execution_count": 9,
   "id": "2cdb1f14",
   "metadata": {},
   "outputs": [
    {
     "name": "stdout",
     "output_type": "stream",
     "text": [
      "Finan: 4464, dgiDB: 3952, DF CAGE: 304, Morgan FP: 954\n"
     ]
    }
   ],
   "source": [
    "print(f\"Finan: {len(finan_genes)}, dgiDB: {len(dgidb_genes)}, DF CAGE: {len(dfcage_genes)}, Morgan FP: {len(morgan_genes)}\")"
   ]
  },
  {
   "cell_type": "code",
   "execution_count": 4,
   "id": "8f2336b7",
   "metadata": {},
   "outputs": [
    {
     "data": {
      "text/plain": [
       "3"
      ]
     },
     "execution_count": 4,
     "metadata": {},
     "output_type": "execute_result"
    }
   ],
   "source": [
    "len(morgan_genes & dgidb_genes & dfcage_genes & finan_genes)"
   ]
  },
  {
   "cell_type": "code",
   "execution_count": 5,
   "id": "e93921d9",
   "metadata": {},
   "outputs": [
    {
     "data": {
      "text/plain": [
       "659"
      ]
     },
     "execution_count": 5,
     "metadata": {},
     "output_type": "execute_result"
    }
   ],
   "source": [
    "len(morgan_genes & dgidb_genes)"
   ]
  },
  {
   "cell_type": "code",
   "execution_count": 6,
   "id": "3956d059",
   "metadata": {},
   "outputs": [
    {
     "data": {
      "text/plain": [
       "3"
      ]
     },
     "execution_count": 6,
     "metadata": {},
     "output_type": "execute_result"
    }
   ],
   "source": [
    "len(morgan_genes & dfcage_genes)"
   ]
  },
  {
   "cell_type": "code",
   "execution_count": 7,
   "id": "99f778d0",
   "metadata": {},
   "outputs": [
    {
     "data": {
      "text/plain": [
       "715"
      ]
     },
     "execution_count": 7,
     "metadata": {},
     "output_type": "execute_result"
    }
   ],
   "source": [
    "len(morgan_genes & finan_genes)"
   ]
  },
  {
   "cell_type": "code",
   "execution_count": 69,
   "id": "8b92d0e1",
   "metadata": {},
   "outputs": [],
   "source": [
    "morgan = morgan[morgan[\"Score\"] > 0.5]"
   ]
  },
  {
   "cell_type": "code",
   "execution_count": 70,
   "id": "6d62b3ec",
   "metadata": {},
   "outputs": [
    {
     "data": {
      "text/plain": [
       "304"
      ]
     },
     "execution_count": 70,
     "metadata": {},
     "output_type": "execute_result"
    }
   ],
   "source": [
    "len(dfcage_genes)"
   ]
  },
  {
   "cell_type": "code",
   "execution_count": 62,
   "id": "210e7b6f",
   "metadata": {},
   "outputs": [
    {
     "data": {
      "text/plain": [
       "98"
      ]
     },
     "execution_count": 62,
     "metadata": {},
     "output_type": "execute_result"
    }
   ],
   "source": [
    "len(dgidb_genes & dfcage_genes)"
   ]
  },
  {
   "cell_type": "code",
   "execution_count": 86,
   "id": "e98bbfbf",
   "metadata": {},
   "outputs": [
    {
     "data": {
      "image/png": "[encoded data removed]",
      "text/plain": [
       "<Figure size 640x480 with 1 Axes>"
      ]
     },
     "metadata": {},
     "output_type": "display_data"
    }
   ],
   "source": [
    "venn3([morgan_genes, dgidb_genes, finan_genes],\n",
    "      set_labels = (\"Morgan\", \"DGIdb\", \"Finan\"))\n",
    "\n",
    "plt.show()"
   ]
  },
  {
   "cell_type": "code",
   "execution_count": null,
   "id": "ed0555d6",
   "metadata": {},
   "outputs": [],
   "source": []
  },
  {
   "cell_type": "markdown",
   "id": "b815db01",
   "metadata": {},
   "source": [
    "656 genes overlap between Morgan and dgidb. 106 between morgan and finan. 609 overlap between all three. Unfortunately mdmni-dgd does not provide list of genes so cannot be used for comparison."
   ]
  },
  {
   "cell_type": "code",
   "execution_count": null,
   "id": "04be4372",
   "metadata": {},
   "outputs": [
    {
     "data": {
      "text/html": [
       "<div>\n",
       "<style scoped>\n",
       "    .dataframe tbody tr th:only-of-type {\n",
       "        vertical-align: middle;\n",
       "    }\n",
       "\n",
       "    .dataframe tbody tr th {\n",
       "        vertical-align: top;\n",
       "    }\n",
       "\n",
       "    .dataframe thead th {\n",
       "        text-align: right;\n",
       "    }\n",
       "</style>\n",
       "<table border=\"1\" class=\"dataframe\">\n",
       "  <thead>\n",
       "    <tr style=\"text-align: right;\">\n",
       "      <th></th>\n",
       "      <th>Gene</th>\n",
       "      <th>Cancer</th>\n",
       "      <th>Source</th>\n",
       "    </tr>\n",
       "  </thead>\n",
       "  <tbody>\n",
       "    <tr>\n",
       "      <th>0</th>\n",
       "      <td>RBM10</td>\n",
       "      <td>Lung adenocarcinoma</td>\n",
       "      <td>The role of RBM10 mutations in the development...</td>\n",
       "    </tr>\n",
       "    <tr>\n",
       "      <th>1</th>\n",
       "      <td>TGIF1</td>\n",
       "      <td>Lung cancer</td>\n",
       "      <td>TGIF1 promoted the growth and migration of can...</td>\n",
       "    </tr>\n",
       "    <tr>\n",
       "      <th>2</th>\n",
       "      <td>PTPDC1</td>\n",
       "      <td>Non</td>\n",
       "      <td>Non</td>\n",
       "    </tr>\n",
       "    <tr>\n",
       "      <th>3</th>\n",
       "      <td>PTPN11</td>\n",
       "      <td>Melanoma</td>\n",
       "      <td>PTPN11 Plays Oncogenic Roles and Is a Therapeu...</td>\n",
       "    </tr>\n",
       "    <tr>\n",
       "      <th>4</th>\n",
       "      <td>EPHA2</td>\n",
       "      <td>Breast cancer, lung cancer, glioblastoma, and ...</td>\n",
       "      <td>Oncogenic functions and therapeutic targeting ...</td>\n",
       "    </tr>\n",
       "    <tr>\n",
       "      <th>...</th>\n",
       "      <td>...</td>\n",
       "      <td>...</td>\n",
       "      <td>...</td>\n",
       "    </tr>\n",
       "    <tr>\n",
       "      <th>299</th>\n",
       "      <td>KRT5</td>\n",
       "      <td>Non</td>\n",
       "      <td>Non</td>\n",
       "    </tr>\n",
       "    <tr>\n",
       "      <th>300</th>\n",
       "      <td>ZNF507</td>\n",
       "      <td>Non</td>\n",
       "      <td>Non</td>\n",
       "    </tr>\n",
       "    <tr>\n",
       "      <th>301</th>\n",
       "      <td>PTMA</td>\n",
       "      <td>Non</td>\n",
       "      <td>Non</td>\n",
       "    </tr>\n",
       "    <tr>\n",
       "      <th>302</th>\n",
       "      <td>PSIP1</td>\n",
       "      <td>Non</td>\n",
       "      <td>Non</td>\n",
       "    </tr>\n",
       "    <tr>\n",
       "      <th>303</th>\n",
       "      <td>ACVR1B</td>\n",
       "      <td>Non</td>\n",
       "      <td>Non</td>\n",
       "    </tr>\n",
       "  </tbody>\n",
       "</table>\n",
       "<p>304 rows × 3 columns</p>\n",
       "</div>"
      ],
      "text/plain": [
       "       Gene                                             Cancer  \\\n",
       "0     RBM10                                Lung adenocarcinoma   \n",
       "1     TGIF1                                        Lung cancer   \n",
       "2    PTPDC1                                                Non   \n",
       "3    PTPN11                                           Melanoma   \n",
       "4     EPHA2  Breast cancer, lung cancer, glioblastoma, and ...   \n",
       "..      ...                                                ...   \n",
       "299    KRT5                                                Non   \n",
       "300  ZNF507                                                Non   \n",
       "301    PTMA                                                Non   \n",
       "302   PSIP1                                                Non   \n",
       "303  ACVR1B                                                Non   \n",
       "\n",
       "                                                Source  \n",
       "0    The role of RBM10 mutations in the development...  \n",
       "1    TGIF1 promoted the growth and migration of can...  \n",
       "2                                                  Non  \n",
       "3    PTPN11 Plays Oncogenic Roles and Is a Therapeu...  \n",
       "4    Oncogenic functions and therapeutic targeting ...  \n",
       "..                                                 ...  \n",
       "299                                                Non  \n",
       "300                                                Non  \n",
       "301                                                Non  \n",
       "302                                                Non  \n",
       "303                                                Non  \n",
       "\n",
       "[304 rows x 3 columns]"
      ]
     },
     "execution_count": 45,
     "metadata": {},
     "output_type": "execute_result"
    }
   ],
   "source": []
  },
  {
   "cell_type": "code",
   "execution_count": 75,
   "id": "f6bba212",
   "metadata": {},
   "outputs": [
    {
     "data": {
      "text/html": [
       "<div>\n",
       "<style scoped>\n",
       "    .dataframe tbody tr th:only-of-type {\n",
       "        vertical-align: middle;\n",
       "    }\n",
       "\n",
       "    .dataframe tbody tr th {\n",
       "        vertical-align: top;\n",
       "    }\n",
       "\n",
       "    .dataframe thead th {\n",
       "        text-align: right;\n",
       "    }\n",
       "</style>\n",
       "<table border=\"1\" class=\"dataframe\">\n",
       "  <thead>\n",
       "    <tr style=\"text-align: right;\">\n",
       "      <th></th>\n",
       "      <th>0</th>\n",
       "      <th>1</th>\n",
       "      <th>2</th>\n",
       "      <th>3</th>\n",
       "      <th>4</th>\n",
       "      <th>5</th>\n",
       "      <th>6</th>\n",
       "      <th>7</th>\n",
       "      <th>8</th>\n",
       "    </tr>\n",
       "  </thead>\n",
       "  <tbody>\n",
       "    <tr>\n",
       "      <th>3</th>\n",
       "      <td>A2M</td>\n",
       "      <td>2</td>\n",
       "      <td>NCI</td>\n",
       "      <td>NaN</td>\n",
       "      <td>COBALT</td>\n",
       "      <td>COBALT</td>\n",
       "      <td>NaN</td>\n",
       "      <td>NaN</td>\n",
       "      <td>NaN</td>\n",
       "    </tr>\n",
       "    <tr>\n",
       "      <th>4</th>\n",
       "      <td>AADAT</td>\n",
       "      <td>51166</td>\n",
       "      <td>TTD</td>\n",
       "      <td>NaN</td>\n",
       "      <td>US10065972, Example 281</td>\n",
       "      <td>US10065972, Example 281</td>\n",
       "      <td>NaN</td>\n",
       "      <td>NaN</td>\n",
       "      <td>NaN</td>\n",
       "    </tr>\n",
       "    <tr>\n",
       "      <th>5</th>\n",
       "      <td>AAK1</td>\n",
       "      <td>22848</td>\n",
       "      <td>GuideToPharmacology</td>\n",
       "      <td>inhibitor</td>\n",
       "      <td>223366123</td>\n",
       "      <td>BARICITINIB</td>\n",
       "      <td>BARICITINIB</td>\n",
       "      <td>chembl:CHEMBL2105759</td>\n",
       "      <td>7.96</td>\n",
       "    </tr>\n",
       "    <tr>\n",
       "      <th>6</th>\n",
       "      <td>AANAT</td>\n",
       "      <td>15</td>\n",
       "      <td>NCI</td>\n",
       "      <td>NaN</td>\n",
       "      <td>FLUOXETINE</td>\n",
       "      <td>FLUOXETINE</td>\n",
       "      <td>FLUOXETINE</td>\n",
       "      <td>chembl:CHEMBL41</td>\n",
       "      <td>1.41</td>\n",
       "    </tr>\n",
       "    <tr>\n",
       "      <th>7</th>\n",
       "      <td>ABAT</td>\n",
       "      <td>18</td>\n",
       "      <td>PharmGKB</td>\n",
       "      <td>NaN</td>\n",
       "      <td>valproic acid</td>\n",
       "      <td>valproic acid</td>\n",
       "      <td>NaN</td>\n",
       "      <td>NaN</td>\n",
       "      <td>NaN</td>\n",
       "    </tr>\n",
       "    <tr>\n",
       "      <th>...</th>\n",
       "      <td>...</td>\n",
       "      <td>...</td>\n",
       "      <td>...</td>\n",
       "      <td>...</td>\n",
       "      <td>...</td>\n",
       "      <td>...</td>\n",
       "      <td>...</td>\n",
       "      <td>...</td>\n",
       "      <td>...</td>\n",
       "    </tr>\n",
       "    <tr>\n",
       "      <th>3950</th>\n",
       "      <td>ZNF804A</td>\n",
       "      <td>91752</td>\n",
       "      <td>PharmGKB</td>\n",
       "      <td>NaN</td>\n",
       "      <td>antipsychotics</td>\n",
       "      <td>antipsychotics</td>\n",
       "      <td>NaN</td>\n",
       "      <td>NaN</td>\n",
       "      <td>NaN</td>\n",
       "    </tr>\n",
       "    <tr>\n",
       "      <th>3951</th>\n",
       "      <td>ZNF816</td>\n",
       "      <td>125893</td>\n",
       "      <td>PharmGKB</td>\n",
       "      <td>NaN</td>\n",
       "      <td>Tumor necrosis factor alpha (TNF-alpha) inhibi...</td>\n",
       "      <td>Tumor necrosis factor alpha (TNF-alpha) inhibi...</td>\n",
       "      <td>NaN</td>\n",
       "      <td>NaN</td>\n",
       "      <td>NaN</td>\n",
       "    </tr>\n",
       "    <tr>\n",
       "      <th>3952</th>\n",
       "      <td>ZRSR2</td>\n",
       "      <td>8233</td>\n",
       "      <td>OncoKB</td>\n",
       "      <td>NaN</td>\n",
       "      <td>H3B-8800</td>\n",
       "      <td>H3B-8800</td>\n",
       "      <td>NaN</td>\n",
       "      <td>NaN</td>\n",
       "      <td>NaN</td>\n",
       "    </tr>\n",
       "    <tr>\n",
       "      <th>3953</th>\n",
       "      <td>ZSCAN25</td>\n",
       "      <td>221785</td>\n",
       "      <td>PharmGKB</td>\n",
       "      <td>NaN</td>\n",
       "      <td>lumefantrine</td>\n",
       "      <td>lumefantrine</td>\n",
       "      <td>LUMEFANTRINE</td>\n",
       "      <td>chembl:CHEMBL38827</td>\n",
       "      <td>5.3</td>\n",
       "    </tr>\n",
       "    <tr>\n",
       "      <th>3954</th>\n",
       "      <td>ZUP1</td>\n",
       "      <td>221302</td>\n",
       "      <td>TTD</td>\n",
       "      <td>NaN</td>\n",
       "      <td>Azepan-4-one derivative 2</td>\n",
       "      <td>Azepan-4-one derivative 2</td>\n",
       "      <td>NaN</td>\n",
       "      <td>NaN</td>\n",
       "      <td>NaN</td>\n",
       "    </tr>\n",
       "  </tbody>\n",
       "</table>\n",
       "<p>3952 rows × 9 columns</p>\n",
       "</div>"
      ],
      "text/plain": [
       "            0       1                    2          3  \\\n",
       "3         A2M       2                  NCI        NaN   \n",
       "4       AADAT   51166                  TTD        NaN   \n",
       "5        AAK1   22848  GuideToPharmacology  inhibitor   \n",
       "6       AANAT      15                  NCI        NaN   \n",
       "7        ABAT      18             PharmGKB        NaN   \n",
       "...       ...     ...                  ...        ...   \n",
       "3950  ZNF804A   91752             PharmGKB        NaN   \n",
       "3951   ZNF816  125893             PharmGKB        NaN   \n",
       "3952    ZRSR2    8233               OncoKB        NaN   \n",
       "3953  ZSCAN25  221785             PharmGKB        NaN   \n",
       "3954     ZUP1  221302                  TTD        NaN   \n",
       "\n",
       "                                                      4  \\\n",
       "3                                                COBALT   \n",
       "4                               US10065972, Example 281   \n",
       "5                                             223366123   \n",
       "6                                            FLUOXETINE   \n",
       "7                                         valproic acid   \n",
       "...                                                 ...   \n",
       "3950                                     antipsychotics   \n",
       "3951  Tumor necrosis factor alpha (TNF-alpha) inhibi...   \n",
       "3952                                           H3B-8800   \n",
       "3953                                       lumefantrine   \n",
       "3954                          Azepan-4-one derivative 2   \n",
       "\n",
       "                                                      5             6  \\\n",
       "3                                                COBALT           NaN   \n",
       "4                               US10065972, Example 281           NaN   \n",
       "5                                           BARICITINIB   BARICITINIB   \n",
       "6                                            FLUOXETINE    FLUOXETINE   \n",
       "7                                         valproic acid           NaN   \n",
       "...                                                 ...           ...   \n",
       "3950                                     antipsychotics           NaN   \n",
       "3951  Tumor necrosis factor alpha (TNF-alpha) inhibi...           NaN   \n",
       "3952                                           H3B-8800           NaN   \n",
       "3953                                       lumefantrine  LUMEFANTRINE   \n",
       "3954                          Azepan-4-one derivative 2           NaN   \n",
       "\n",
       "                         7     8  \n",
       "3                      NaN   NaN  \n",
       "4                      NaN   NaN  \n",
       "5     chembl:CHEMBL2105759  7.96  \n",
       "6          chembl:CHEMBL41  1.41  \n",
       "7                      NaN   NaN  \n",
       "...                    ...   ...  \n",
       "3950                   NaN   NaN  \n",
       "3951                   NaN   NaN  \n",
       "3952                   NaN   NaN  \n",
       "3953    chembl:CHEMBL38827   5.3  \n",
       "3954                   NaN   NaN  \n",
       "\n",
       "[3952 rows x 9 columns]"
      ]
     },
     "execution_count": 75,
     "metadata": {},
     "output_type": "execute_result"
    }
   ],
   "source": [
    "dgidb"
   ]
  },
  {
   "cell_type": "code",
   "execution_count": 76,
   "id": "76f3b413",
   "metadata": {},
   "outputs": [
    {
     "data": {
      "text/plain": [
       "{'CHRNB2', 'EPHA2', 'EPHX1', 'MC3R', 'NTRK2', 'PRSS1', 'RXRA'}"
      ]
     },
     "execution_count": 76,
     "metadata": {},
     "output_type": "execute_result"
    }
   ],
   "source": [
    "morgan_genes & dfcage_genes"
   ]
  },
  {
   "cell_type": "code",
   "execution_count": null,
   "id": "d1059d0f",
   "metadata": {},
   "outputs": [],
   "source": []
  }
 ],
 "metadata": {
  "kernelspec": {
   "display_name": ".dg_env (3.12.8)",
   "language": "python",
   "name": "python3"
  },
  "language_info": {
   "codemirror_mode": {
    "name": "ipython",
    "version": 3
   },
   "file_extension": ".py",
   "mimetype": "text/x-python",
   "name": "python",
   "nbconvert_exporter": "python",
   "pygments_lexer": "ipython3",
   "version": "3.12.8"
  }
 },
 "nbformat": 4,
 "nbformat_minor": 5
}
